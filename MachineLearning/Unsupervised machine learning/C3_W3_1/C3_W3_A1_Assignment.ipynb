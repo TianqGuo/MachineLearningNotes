{
 "cells": [
  {
   "cell_type": "markdown",
   "metadata": {},
   "source": [
    "# Deep Q-Learning - Lunar Lander\n",
    "\n",
    "In this assignment, you will train an agent to land a lunar lander safely on a landing pad on the surface of the moon.\n",
    "\n",
    "\n",
    "# Outline\n",
    "- [ 1 - Import Packages <img align=\"Right\" src=\"./images/lunar_lander.gif\" width = 60% >](#1)\n",
    "- [ 2 - Hyperparameters](#2)\n",
    "- [ 3 - The Lunar Lander Environment](#3)\n",
    "  - [ 3.1 Action Space](#3.1)\n",
    "  - [ 3.2 Observation Space](#3.2)\n",
    "  - [ 3.3 Rewards](#3.3)\n",
    "  - [ 3.4 Episode Termination](#3.4)\n",
    "- [ 4 - Load the Environment](#4)\n",
    "- [ 5 - Interacting with the Gym Environment](#5)\n",
    "    - [ 5.1 Exploring the Environment's Dynamics](#5.1)\n",
    "- [ 6 - Deep Q-Learning](#6)\n",
    "  - [ 6.1 Target Network](#6.1)\n",
    "    - [ Exercise 1](#ex01)\n",
    "  - [ 6.2 Experience Replay](#6.2)\n",
    "- [ 7 - Deep Q-Learning Algorithm with Experience Replay](#7)\n",
    "  - [ Exercise 2](#ex02)\n",
    "- [ 8 - Update the Network Weights](#8)\n",
    "- [ 9 - Train the Agent](#9)\n",
    "- [ 10 - See the Trained Agent In Action](#10)\n",
    "- [ 11 - Congratulations!](#11)\n",
    "- [ 12 - References](#12)\n"
   ]
  },
  {
   "cell_type": "markdown",
   "metadata": {},
   "source": [
    "_**NOTE:** To prevent errors from the autograder, you are not allowed to edit or delete non-graded cells in this lab. Please also refrain from adding any new cells. \n",
    "**Once you have passed this assignment** and want to experiment with any of the non-graded code, you may follow the instructions at the bottom of this notebook._"
   ]
  },
  {
   "cell_type": "markdown",
   "metadata": {},
   "source": [
    "<a name=\"1\"></a>\n",
    "## 1 - Import Packages\n",
    "\n",
    "We'll make use of the following packages:\n",
    "- `numpy` is a package for scientific computing in python.\n",
    "- `deque` will be our data structure for our memory buffer.\n",
    "- `namedtuple` will be used to store the experience tuples.\n",
    "- The `gym` toolkit is a collection of environments that can be used to test reinforcement learning algorithms. We should note that in this notebook we are using `gym` version `0.24.0`.\n",
    "- `PIL.Image` and `pyvirtualdisplay` are needed to render the Lunar Lander environment.\n",
    "- We will use several modules from the `tensorflow.keras` framework for building deep learning models.\n",
    "- `utils` is a module that contains helper functions for this assignment. You do not need to modify the code in this file.\n",
    "\n",
    "Run the cell below to import all the necessary packages."
   ]
  },
  {
   "cell_type": "code",
   "execution_count": 1,
   "metadata": {
    "deletable": false,
    "editable": false,
    "id": "KYbOPKRtfQOr"
   },
   "outputs": [],
   "source": [
    "import time\n",
    "from collections import deque, namedtuple\n",
    "\n",
    "import gym\n",
    "import numpy as np\n",
    "import PIL.Image\n",
    "import tensorflow as tf\n",
    "import utils\n",
    "\n",
    "from pyvirtualdisplay import Display\n",
    "from tensorflow.keras import Sequential\n",
    "from tensorflow.keras.layers import Dense, Input\n",
    "from tensorflow.keras.losses import MSE\n",
    "from tensorflow.keras.optimizers import Adam"
   ]
  },
  {
   "cell_type": "code",
   "execution_count": 2,
   "metadata": {
    "deletable": false,
    "editable": false
   },
   "outputs": [],
   "source": [
    "# Set up a virtual display to render the Lunar Lander environment.\n",
    "Display(visible=0, size=(840, 480)).start();\n",
    "\n",
    "# Set the random seed for TensorFlow\n",
    "tf.random.set_seed(utils.SEED)"
   ]
  },
  {
   "cell_type": "markdown",
   "metadata": {},
   "source": [
    "<a name=\"2\"></a>\n",
    "## 2 - Hyperparameters\n",
    "\n",
    "Run the cell below to set the hyperparameters."
   ]
  },
  {
   "cell_type": "code",
   "execution_count": 3,
   "metadata": {
    "deletable": false,
    "editable": false
   },
   "outputs": [],
   "source": [
    "MEMORY_SIZE = 100_000     # size of memory buffer\n",
    "GAMMA = 0.995             # discount factor\n",
    "ALPHA = 1e-3              # learning rate  \n",
    "NUM_STEPS_FOR_UPDATE = 4  # perform a learning update every C time steps"
   ]
  },
  {
   "cell_type": "markdown",
   "metadata": {},
   "source": [
    "<a name=\"3\"></a>\n",
    "## 3 - The Lunar Lander Environment\n",
    "\n",
    "In this notebook we will be using [OpenAI's Gym Library](https://www.gymlibrary.dev/). The Gym library provides a wide variety of environments for reinforcement learning. To put it simply, an environment represents a problem or task to be solved. In this notebook, we will try to solve the Lunar Lander environment using reinforcement learning.\n",
    "\n",
    "The goal of the Lunar Lander environment is to land the lunar lander safely on the landing pad on the surface of the moon. The landing pad is designated by two flag poles and its center is at coordinates `(0,0)` but the lander is also allowed to land outside of the landing pad. The lander starts at the top center of the environment with a random initial force applied to its center of mass and has infinite fuel. The environment is considered solved if you get `200` points. \n",
    "\n",
    "<br>\n",
    "<br>\n",
    "<figure>\n",
    "  <img src = \"images/lunar_lander.gif\" width = 40%>\n",
    "      <figcaption style = \"text-align: center; font-style: italic\">Fig 1. Lunar Lander Environment.</figcaption>\n",
    "</figure>\n",
    "\n",
    "\n",
    "\n",
    "<a name=\"3.1\"></a>\n",
    "### 3.1 Action Space\n",
    "\n",
    "The agent has four discrete actions available:\n",
    "\n",
    "* Do nothing.\n",
    "* Fire right engine.\n",
    "* Fire main engine.\n",
    "* Fire left engine.\n",
    "\n",
    "Each action has a corresponding numerical value:\n",
    "\n",
    "```python\n",
    "Do nothing = 0\n",
    "Fire right engine = 1\n",
    "Fire main engine = 2\n",
    "Fire left engine = 3\n",
    "```\n",
    "\n",
    "<a name=\"3.2\"></a>\n",
    "### 3.2 Observation Space\n",
    "\n",
    "The agent's observation space consists of a state vector with 8 variables:\n",
    "\n",
    "* Its $(x,y)$ coordinates. The landing pad is always at coordinates $(0,0)$.\n",
    "* Its linear velocities $(\\dot x,\\dot y)$.\n",
    "* Its angle $\\theta$.\n",
    "* Its angular velocity $\\dot \\theta$.\n",
    "* Two booleans, $l$ and $r$, that represent whether each leg is in contact with the ground or not.\n",
    "\n",
    "<a name=\"3.3\"></a>\n",
    "### 3.3 Rewards\n",
    "\n",
    "After every step, a reward is granted. The total reward of an episode is the sum of the rewards for all the steps within that episode.\n",
    "\n",
    "For each step, the reward:\n",
    "- is increased/decreased the closer/further the lander is to the landing pad.\n",
    "- is increased/decreased the slower/faster the lander is moving.\n",
    "- is decreased the more the lander is tilted (angle not horizontal).\n",
    "- is increased by 10 points for each leg that is in contact with the ground.\n",
    "- is decreased by 0.03 points each frame a side engine is firing.\n",
    "- is decreased by 0.3 points each frame the main engine is firing.\n",
    "\n",
    "The episode receives an additional reward of -100 or +100 points for crashing or landing safely respectively.\n",
    "\n",
    "<a name=\"3.4\"></a>\n",
    "### 3.4 Episode Termination\n",
    "\n",
    "An episode ends (i.e the environment enters a terminal state) if:\n",
    "\n",
    "* The lunar lander crashes (i.e if the body of the lunar lander comes in contact with the surface of the moon).\n",
    "\n",
    "* The absolute value of the lander's $x$-coordinate is greater than 1 (i.e. it goes beyond the left or right border)\n",
    "\n",
    "You can check out the [Open AI Gym documentation](https://www.gymlibrary.dev/environments/box2d/lunar_lander/) for a full description of the environment. "
   ]
  },
  {
   "cell_type": "markdown",
   "metadata": {},
   "source": [
    "<a name=\"4\"></a>\n",
    "## 4 - Load the Environment\n",
    "\n",
    "We start by loading the `LunarLander-v2` environment from the `gym` library by using the `.make()` method. `LunarLander-v2` is the latest version of the Lunar Lander environment and you can read about its version history in the [Open AI Gym documentation](https://www.gymlibrary.dev/environments/box2d/lunar_lander/#version-history)."
   ]
  },
  {
   "cell_type": "code",
   "execution_count": 4,
   "metadata": {
    "deletable": false,
    "editable": false,
    "id": "ILVMYKewfR0n"
   },
   "outputs": [],
   "source": [
    "env = gym.make('LunarLander-v2')"
   ]
  },
  {
   "cell_type": "markdown",
   "metadata": {},
   "source": [
    "Once we load the environment we use the `.reset()` method to reset the environment to the initial state. The lander starts at the top center of the environment and we can render the first frame of the environment by using the `.render()` method."
   ]
  },
  {
   "cell_type": "code",
   "execution_count": 6,
   "metadata": {
    "deletable": false,
    "editable": false
   },
   "outputs": [
    {
     "data": {
      "image/png": "[encoded data removed]",
      "text/plain": [
       "<PIL.Image.Image image mode=RGB size=600x400 at 0x7FACAAA7AF50>"
      ]
     },
     "execution_count": 6,
     "metadata": {},
     "output_type": "execute_result"
    }
   ],
   "source": [
    "env.reset()\n",
    "PIL.Image.fromarray(env.render(mode='rgb_array'))"
   ]
  },
  {
   "cell_type": "markdown",
   "metadata": {},
   "source": [
    "In order to build our neural network later on we need to know the size of the state vector and the number of valid actions. We can get this information from our environment by using the `.observation_space.shape` and `action_space.n` methods, respectively."
   ]
  },
  {
   "cell_type": "code",
   "execution_count": 7,
   "metadata": {
    "deletable": false,
    "editable": false,
    "id": "x3fdqdG4CUu2"
   },
   "outputs": [
    {
     "name": "stdout",
     "output_type": "stream",
     "text": [
      "State Shape: (8,)\n",
      "Number of actions: 4\n"
     ]
    }
   ],
   "source": [
    "state_size = env.observation_space.shape\n",
    "num_actions = env.action_space.n\n",
    "\n",
    "print('State Shape:', state_size)\n",
    "print('Number of actions:', num_actions)"
   ]
  },
  {
   "cell_type": "markdown",
   "metadata": {},
   "source": [
    "<a name=\"5\"></a>\n",
    "## 5 - Interacting with the Gym Environment\n",
    "\n",
    "The Gym library implements the standard “agent-environment loop” formalism:\n",
    "\n",
    "<br>\n",
    "<center>\n",
    "<video src = \"./videos/rl_formalism.m4v\" width=\"840\" height=\"480\" controls autoplay loop poster=\"./images/rl_formalism.png\"> </video>\n",
    "<figcaption style = \"text-align:center; font-style:italic\">Fig 2. Agent-environment Loop Formalism.</figcaption>\n",
    "</center>\n",
    "<br>\n",
    "\n",
    "In the standard “agent-environment loop” formalism, an agent interacts with the environment in discrete time steps $t=0,1,2,...$. At each time step $t$, the agent uses a policy $\\pi$ to select an action $A_t$ based on its observation of the environment's state $S_t$. The agent receives a numerical reward $R_t$ and on the next time step, moves to a new state $S_{t+1}$.\n",
    "\n",
    "<a name=\"5.1\"></a>\n",
    "### 5.1 Exploring the Environment's Dynamics\n",
    "\n",
    "In Open AI's Gym environments, we use the `.step()` method to run a single time step of the environment's dynamics. In the version of `gym` that we are using the `.step()` method accepts an action and returns four values:\n",
    "\n",
    "* `observation` (**object**): an environment-specific object representing your observation of the environment. In the Lunar Lander environment this corresponds to a numpy array containing the positions and velocities of the lander as described in section [3.2 Observation Space](#3.2).\n",
    "\n",
    "\n",
    "* `reward` (**float**): amount of reward returned as a result of taking the given action. In the Lunar Lander environment this corresponds to a float of type `numpy.float64` as described in section [3.3 Rewards](#3.3).\n",
    "\n",
    "\n",
    "* `done` (**boolean**): When done is `True`, it indicates the episode has terminated and it’s time to reset the environment. \n",
    "\n",
    "\n",
    "* `info` (**dictionary**): diagnostic information useful for debugging. We won't be using this variable in this notebook but it is shown here for completeness.\n",
    "\n",
    "To begin an episode, we need to reset the environment to an initial state. We do this by using the `.reset()` method. "
   ]
  },
  {
   "cell_type": "code",
   "execution_count": 8,
   "metadata": {
    "deletable": false,
    "editable": false
   },
   "outputs": [],
   "source": [
    "# Reset the environment and get the initial state.\n",
    "current_state = env.reset()"
   ]
  },
  {
   "cell_type": "markdown",
   "metadata": {},
   "source": [
    "Once the environment is reset, the agent can start taking actions in the environment by using the `.step()` method. Note that the agent can only take one action per time step. \n",
    "\n",
    "In the cell below you can select different actions and see how the returned values change depending on the action taken. Remember that in this environment the agent has four discrete actions available and we specify them in code by using their corresponding numerical value:\n",
    "\n",
    "```python\n",
    "Do nothing = 0\n",
    "Fire right engine = 1\n",
    "Fire main engine = 2\n",
    "Fire left engine = 3\n",
    "```"
   ]
  },
  {
   "cell_type": "code",
   "execution_count": 9,
   "metadata": {
    "deletable": false
   },
   "outputs": [
    {
     "data": {
      "text/html": [
       "<style  type=\"text/css\" >\n",
       "    #T_4a5efe9a_a3ac_11ee_a0ef_0242ac120024 th {\n",
       "          border: 1px solid grey;\n",
       "          text-align: center;\n",
       "    }    #T_4a5efe9a_a3ac_11ee_a0ef_0242ac120024 tbody td {\n",
       "          border: 1px solid grey;\n",
       "          text-align: center;\n",
       "    }    #T_4a5efe9a_a3ac_11ee_a0ef_0242ac120024row0_col0 {\n",
       "            background-color :  grey;\n",
       "        }    #T_4a5efe9a_a3ac_11ee_a0ef_0242ac120024row1_col1 {\n",
       "            background-color :  grey;\n",
       "        }    #T_4a5efe9a_a3ac_11ee_a0ef_0242ac120024row1_col2 {\n",
       "            background-color :  grey;\n",
       "        }    #T_4a5efe9a_a3ac_11ee_a0ef_0242ac120024row1_col3 {\n",
       "            background-color :  grey;\n",
       "        }    #T_4a5efe9a_a3ac_11ee_a0ef_0242ac120024row1_col4 {\n",
       "            background-color :  grey;\n",
       "        }    #T_4a5efe9a_a3ac_11ee_a0ef_0242ac120024row1_col5 {\n",
       "            background-color :  grey;\n",
       "        }    #T_4a5efe9a_a3ac_11ee_a0ef_0242ac120024row1_col6 {\n",
       "            background-color :  grey;\n",
       "        }    #T_4a5efe9a_a3ac_11ee_a0ef_0242ac120024row1_col7 {\n",
       "            background-color :  grey;\n",
       "        }    #T_4a5efe9a_a3ac_11ee_a0ef_0242ac120024row1_col8 {\n",
       "            background-color :  grey;\n",
       "        }    #T_4a5efe9a_a3ac_11ee_a0ef_0242ac120024row1_col9 {\n",
       "            background-color :  grey;\n",
       "        }    #T_4a5efe9a_a3ac_11ee_a0ef_0242ac120024row1_col10 {\n",
       "            background-color :  grey;\n",
       "        }    #T_4a5efe9a_a3ac_11ee_a0ef_0242ac120024row1_col11 {\n",
       "            background-color :  grey;\n",
       "        }    #T_4a5efe9a_a3ac_11ee_a0ef_0242ac120024row2_col0 {\n",
       "            background-color :  grey;\n",
       "        }    #T_4a5efe9a_a3ac_11ee_a0ef_0242ac120024row3_col1 {\n",
       "            background-color :  grey;\n",
       "        }    #T_4a5efe9a_a3ac_11ee_a0ef_0242ac120024row3_col2 {\n",
       "            background-color :  grey;\n",
       "        }    #T_4a5efe9a_a3ac_11ee_a0ef_0242ac120024row3_col3 {\n",
       "            background-color :  grey;\n",
       "        }    #T_4a5efe9a_a3ac_11ee_a0ef_0242ac120024row3_col4 {\n",
       "            background-color :  grey;\n",
       "        }    #T_4a5efe9a_a3ac_11ee_a0ef_0242ac120024row3_col5 {\n",
       "            background-color :  grey;\n",
       "        }    #T_4a5efe9a_a3ac_11ee_a0ef_0242ac120024row3_col6 {\n",
       "            background-color :  grey;\n",
       "        }    #T_4a5efe9a_a3ac_11ee_a0ef_0242ac120024row3_col7 {\n",
       "            background-color :  grey;\n",
       "        }    #T_4a5efe9a_a3ac_11ee_a0ef_0242ac120024row3_col8 {\n",
       "            background-color :  grey;\n",
       "        }    #T_4a5efe9a_a3ac_11ee_a0ef_0242ac120024row3_col9 {\n",
       "            background-color :  grey;\n",
       "        }    #T_4a5efe9a_a3ac_11ee_a0ef_0242ac120024row3_col10 {\n",
       "            background-color :  grey;\n",
       "        }    #T_4a5efe9a_a3ac_11ee_a0ef_0242ac120024row3_col11 {\n",
       "            background-color :  grey;\n",
       "        }    #T_4a5efe9a_a3ac_11ee_a0ef_0242ac120024row4_col1 {\n",
       "            background-color :  grey;\n",
       "        }    #T_4a5efe9a_a3ac_11ee_a0ef_0242ac120024row4_col2 {\n",
       "            background-color :  grey;\n",
       "        }    #T_4a5efe9a_a3ac_11ee_a0ef_0242ac120024row4_col3 {\n",
       "            background-color :  grey;\n",
       "        }    #T_4a5efe9a_a3ac_11ee_a0ef_0242ac120024row4_col4 {\n",
       "            background-color :  grey;\n",
       "        }    #T_4a5efe9a_a3ac_11ee_a0ef_0242ac120024row4_col5 {\n",
       "            background-color :  grey;\n",
       "        }    #T_4a5efe9a_a3ac_11ee_a0ef_0242ac120024row4_col6 {\n",
       "            background-color :  grey;\n",
       "        }    #T_4a5efe9a_a3ac_11ee_a0ef_0242ac120024row4_col7 {\n",
       "            background-color :  grey;\n",
       "        }    #T_4a5efe9a_a3ac_11ee_a0ef_0242ac120024row4_col8 {\n",
       "            background-color :  grey;\n",
       "        }    #T_4a5efe9a_a3ac_11ee_a0ef_0242ac120024row4_col9 {\n",
       "            background-color :  grey;\n",
       "        }    #T_4a5efe9a_a3ac_11ee_a0ef_0242ac120024row4_col10 {\n",
       "            background-color :  grey;\n",
       "        }    #T_4a5efe9a_a3ac_11ee_a0ef_0242ac120024row4_col11 {\n",
       "            background-color :  grey;\n",
       "        }</style><table id=\"T_4a5efe9a_a3ac_11ee_a0ef_0242ac120024\" ><thead>    <tr>        <th class=\"blank level0\" ></th>        <th class=\"col_heading level0 col0\" ></th>        <th class=\"col_heading level0 col1\" colspan=8>State Vector</th>        <th class=\"col_heading level0 col9\" colspan=3>Derived from the State Vector (the closer to zero, the better)</th>    </tr>    <tr>        <th class=\"blank level1\" ></th>        <th class=\"col_heading level1 col0\" ></th>        <th class=\"col_heading level1 col1\" colspan=2>Coordinate</th>        <th class=\"col_heading level1 col3\" colspan=2>Velocity</th>        <th class=\"col_heading level1 col5\" colspan=2>Tilting</th>        <th class=\"col_heading level1 col7\" colspan=2>Ground contact</th>        <th class=\"col_heading level1 col9\" >Distance from landing pad</th>        <th class=\"col_heading level1 col10\" >Velocity</th>        <th class=\"col_heading level1 col11\" >Tilting Angle (absolute value)</th>    </tr>    <tr>        <th class=\"blank level2\" ></th>        <th class=\"col_heading level2 col0\" ></th>        <th class=\"col_heading level2 col1\" >X (Horizontal)</th>        <th class=\"col_heading level2 col2\" >Y (Vertical)</th>        <th class=\"col_heading level2 col3\" >X (Horizontal)</th>        <th class=\"col_heading level2 col4\" >Y (Vertical)</th>        <th class=\"col_heading level2 col5\" >Angle</th>        <th class=\"col_heading level2 col6\" >Angular Velocity</th>        <th class=\"col_heading level2 col7\" >Left Leg?</th>        <th class=\"col_heading level2 col8\" >Right Leg?</th>        <th class=\"col_heading level2 col9\" ></th>        <th class=\"col_heading level2 col10\" ></th>        <th class=\"col_heading level2 col11\" ></th>    </tr></thead><tbody>\n",
       "                <tr>\n",
       "                        <th id=\"T_4a5efe9a_a3ac_11ee_a0ef_0242ac120024level0_row0\" class=\"row_heading level0 row0\" >Current State</th>\n",
       "                        <td id=\"T_4a5efe9a_a3ac_11ee_a0ef_0242ac120024row0_col0\" class=\"data row0 col0\" ></td>\n",
       "                        <td id=\"T_4a5efe9a_a3ac_11ee_a0ef_0242ac120024row0_col1\" class=\"data row0 col1\" >-0.007748</td>\n",
       "                        <td id=\"T_4a5efe9a_a3ac_11ee_a0ef_0242ac120024row0_col2\" class=\"data row0 col2\" >1.419120</td>\n",
       "                        <td id=\"T_4a5efe9a_a3ac_11ee_a0ef_0242ac120024row0_col3\" class=\"data row0 col3\" >-0.784778</td>\n",
       "                        <td id=\"T_4a5efe9a_a3ac_11ee_a0ef_0242ac120024row0_col4\" class=\"data row0 col4\" >0.364432</td>\n",
       "                        <td id=\"T_4a5efe9a_a3ac_11ee_a0ef_0242ac120024row0_col5\" class=\"data row0 col5\" >0.008984</td>\n",
       "                        <td id=\"T_4a5efe9a_a3ac_11ee_a0ef_0242ac120024row0_col6\" class=\"data row0 col6\" >0.177764</td>\n",
       "                        <td id=\"T_4a5efe9a_a3ac_11ee_a0ef_0242ac120024row0_col7\" class=\"data row0 col7\" >False</td>\n",
       "                        <td id=\"T_4a5efe9a_a3ac_11ee_a0ef_0242ac120024row0_col8\" class=\"data row0 col8\" >False</td>\n",
       "                        <td id=\"T_4a5efe9a_a3ac_11ee_a0ef_0242ac120024row0_col9\" class=\"data row0 col9\" >1.419142</td>\n",
       "                        <td id=\"T_4a5efe9a_a3ac_11ee_a0ef_0242ac120024row0_col10\" class=\"data row0 col10\" >0.865267</td>\n",
       "                        <td id=\"T_4a5efe9a_a3ac_11ee_a0ef_0242ac120024row0_col11\" class=\"data row0 col11\" >0.008984</td>\n",
       "            </tr>\n",
       "            <tr>\n",
       "                        <th id=\"T_4a5efe9a_a3ac_11ee_a0ef_0242ac120024level0_row1\" class=\"row_heading level0 row1\" >Action</th>\n",
       "                        <td id=\"T_4a5efe9a_a3ac_11ee_a0ef_0242ac120024row1_col0\" class=\"data row1 col0\" >Do nothing</td>\n",
       "                        <td id=\"T_4a5efe9a_a3ac_11ee_a0ef_0242ac120024row1_col1\" class=\"data row1 col1\" ></td>\n",
       "                        <td id=\"T_4a5efe9a_a3ac_11ee_a0ef_0242ac120024row1_col2\" class=\"data row1 col2\" ></td>\n",
       "                        <td id=\"T_4a5efe9a_a3ac_11ee_a0ef_0242ac120024row1_col3\" class=\"data row1 col3\" ></td>\n",
       "                        <td id=\"T_4a5efe9a_a3ac_11ee_a0ef_0242ac120024row1_col4\" class=\"data row1 col4\" ></td>\n",
       "                        <td id=\"T_4a5efe9a_a3ac_11ee_a0ef_0242ac120024row1_col5\" class=\"data row1 col5\" ></td>\n",
       "                        <td id=\"T_4a5efe9a_a3ac_11ee_a0ef_0242ac120024row1_col6\" class=\"data row1 col6\" ></td>\n",
       "                        <td id=\"T_4a5efe9a_a3ac_11ee_a0ef_0242ac120024row1_col7\" class=\"data row1 col7\" ></td>\n",
       "                        <td id=\"T_4a5efe9a_a3ac_11ee_a0ef_0242ac120024row1_col8\" class=\"data row1 col8\" ></td>\n",
       "                        <td id=\"T_4a5efe9a_a3ac_11ee_a0ef_0242ac120024row1_col9\" class=\"data row1 col9\" ></td>\n",
       "                        <td id=\"T_4a5efe9a_a3ac_11ee_a0ef_0242ac120024row1_col10\" class=\"data row1 col10\" ></td>\n",
       "                        <td id=\"T_4a5efe9a_a3ac_11ee_a0ef_0242ac120024row1_col11\" class=\"data row1 col11\" ></td>\n",
       "            </tr>\n",
       "            <tr>\n",
       "                        <th id=\"T_4a5efe9a_a3ac_11ee_a0ef_0242ac120024level0_row2\" class=\"row_heading level0 row2\" >Next State</th>\n",
       "                        <td id=\"T_4a5efe9a_a3ac_11ee_a0ef_0242ac120024row2_col0\" class=\"data row2 col0\" ></td>\n",
       "                        <td id=\"T_4a5efe9a_a3ac_11ee_a0ef_0242ac120024row2_col1\" class=\"data row2 col1\" >-0.015496</td>\n",
       "                        <td id=\"T_4a5efe9a_a3ac_11ee_a0ef_0242ac120024row2_col2\" class=\"data row2 col2\" >1.426743</td>\n",
       "                        <td id=\"T_4a5efe9a_a3ac_11ee_a0ef_0242ac120024row2_col3\" class=\"data row2 col3\" >-0.783716</td>\n",
       "                        <td id=\"T_4a5efe9a_a3ac_11ee_a0ef_0242ac120024row2_col4\" class=\"data row2 col4\" >0.338718</td>\n",
       "                        <td id=\"T_4a5efe9a_a3ac_11ee_a0ef_0242ac120024row2_col5\" class=\"data row2 col5\" >0.017769</td>\n",
       "                        <td id=\"T_4a5efe9a_a3ac_11ee_a0ef_0242ac120024row2_col6\" class=\"data row2 col6\" >0.175698</td>\n",
       "                        <td id=\"T_4a5efe9a_a3ac_11ee_a0ef_0242ac120024row2_col7\" class=\"data row2 col7\" >False</td>\n",
       "                        <td id=\"T_4a5efe9a_a3ac_11ee_a0ef_0242ac120024row2_col8\" class=\"data row2 col8\" >False</td>\n",
       "                        <td id=\"T_4a5efe9a_a3ac_11ee_a0ef_0242ac120024row2_col9\" class=\"data row2 col9\" >1.426828</td>\n",
       "                        <td id=\"T_4a5efe9a_a3ac_11ee_a0ef_0242ac120024row2_col10\" class=\"data row2 col10\" >0.853780</td>\n",
       "                        <td id=\"T_4a5efe9a_a3ac_11ee_a0ef_0242ac120024row2_col11\" class=\"data row2 col11\" >0.017769</td>\n",
       "            </tr>\n",
       "            <tr>\n",
       "                        <th id=\"T_4a5efe9a_a3ac_11ee_a0ef_0242ac120024level0_row3\" class=\"row_heading level0 row3\" >Reward</th>\n",
       "                        <td id=\"T_4a5efe9a_a3ac_11ee_a0ef_0242ac120024row3_col0\" class=\"data row3 col0\" >-0.498333</td>\n",
       "                        <td id=\"T_4a5efe9a_a3ac_11ee_a0ef_0242ac120024row3_col1\" class=\"data row3 col1\" ></td>\n",
       "                        <td id=\"T_4a5efe9a_a3ac_11ee_a0ef_0242ac120024row3_col2\" class=\"data row3 col2\" ></td>\n",
       "                        <td id=\"T_4a5efe9a_a3ac_11ee_a0ef_0242ac120024row3_col3\" class=\"data row3 col3\" ></td>\n",
       "                        <td id=\"T_4a5efe9a_a3ac_11ee_a0ef_0242ac120024row3_col4\" class=\"data row3 col4\" ></td>\n",
       "                        <td id=\"T_4a5efe9a_a3ac_11ee_a0ef_0242ac120024row3_col5\" class=\"data row3 col5\" ></td>\n",
       "                        <td id=\"T_4a5efe9a_a3ac_11ee_a0ef_0242ac120024row3_col6\" class=\"data row3 col6\" ></td>\n",
       "                        <td id=\"T_4a5efe9a_a3ac_11ee_a0ef_0242ac120024row3_col7\" class=\"data row3 col7\" ></td>\n",
       "                        <td id=\"T_4a5efe9a_a3ac_11ee_a0ef_0242ac120024row3_col8\" class=\"data row3 col8\" ></td>\n",
       "                        <td id=\"T_4a5efe9a_a3ac_11ee_a0ef_0242ac120024row3_col9\" class=\"data row3 col9\" ></td>\n",
       "                        <td id=\"T_4a5efe9a_a3ac_11ee_a0ef_0242ac120024row3_col10\" class=\"data row3 col10\" ></td>\n",
       "                        <td id=\"T_4a5efe9a_a3ac_11ee_a0ef_0242ac120024row3_col11\" class=\"data row3 col11\" ></td>\n",
       "            </tr>\n",
       "            <tr>\n",
       "                        <th id=\"T_4a5efe9a_a3ac_11ee_a0ef_0242ac120024level0_row4\" class=\"row_heading level0 row4\" >Episode Terminated</th>\n",
       "                        <td id=\"T_4a5efe9a_a3ac_11ee_a0ef_0242ac120024row4_col0\" class=\"data row4 col0\" >False</td>\n",
       "                        <td id=\"T_4a5efe9a_a3ac_11ee_a0ef_0242ac120024row4_col1\" class=\"data row4 col1\" ></td>\n",
       "                        <td id=\"T_4a5efe9a_a3ac_11ee_a0ef_0242ac120024row4_col2\" class=\"data row4 col2\" ></td>\n",
       "                        <td id=\"T_4a5efe9a_a3ac_11ee_a0ef_0242ac120024row4_col3\" class=\"data row4 col3\" ></td>\n",
       "                        <td id=\"T_4a5efe9a_a3ac_11ee_a0ef_0242ac120024row4_col4\" class=\"data row4 col4\" ></td>\n",
       "                        <td id=\"T_4a5efe9a_a3ac_11ee_a0ef_0242ac120024row4_col5\" class=\"data row4 col5\" ></td>\n",
       "                        <td id=\"T_4a5efe9a_a3ac_11ee_a0ef_0242ac120024row4_col6\" class=\"data row4 col6\" ></td>\n",
       "                        <td id=\"T_4a5efe9a_a3ac_11ee_a0ef_0242ac120024row4_col7\" class=\"data row4 col7\" ></td>\n",
       "                        <td id=\"T_4a5efe9a_a3ac_11ee_a0ef_0242ac120024row4_col8\" class=\"data row4 col8\" ></td>\n",
       "                        <td id=\"T_4a5efe9a_a3ac_11ee_a0ef_0242ac120024row4_col9\" class=\"data row4 col9\" ></td>\n",
       "                        <td id=\"T_4a5efe9a_a3ac_11ee_a0ef_0242ac120024row4_col10\" class=\"data row4 col10\" ></td>\n",
       "                        <td id=\"T_4a5efe9a_a3ac_11ee_a0ef_0242ac120024row4_col11\" class=\"data row4 col11\" ></td>\n",
       "            </tr>\n",
       "    </tbody></table>"
      ],
      "text/plain": [
       "<pandas.io.formats.style.Styler at 0x7facab4d73d0>"
      ]
     },
     "metadata": {},
     "output_type": "display_data"
    }
   ],
   "source": [
    "# Select an action\n",
    "action = 0\n",
    "\n",
    "# Run a single time step of the environment's dynamics with the given action.\n",
    "next_state, reward, done, _ = env.step(action)\n",
    "\n",
    "# Display table with values.\n",
    "utils.display_table(current_state, action, next_state, reward, done)\n",
    "\n",
    "# Replace the `current_state` with the state after the action is taken\n",
    "current_state = next_state"
   ]
  },
  {
   "cell_type": "markdown",
   "metadata": {},
   "source": [
    "In practice, when we train the agent we use a loop to allow the agent to take many consecutive actions during an episode."
   ]
  },
  {
   "cell_type": "markdown",
   "metadata": {},
   "source": [
    "<a name=\"6\"></a>\n",
    "## 6 - Deep Q-Learning\n",
    "\n",
    "In cases where both the state and action space are discrete we can estimate the action-value function iteratively by using the Bellman equation:\n",
    "\n",
    "$$\n",
    "Q_{i+1}(s,a) = R + \\gamma \\max_{a'}Q_i(s',a')\n",
    "$$\n",
    "\n",
    "This iterative method converges to the optimal action-value function $Q^*(s,a)$ as $i\\to\\infty$. This means that the agent just needs to gradually explore the state-action space and keep updating the estimate of $Q(s,a)$ until it converges to the optimal action-value function $Q^*(s,a)$. However, in cases where the state space is continuous it becomes practically impossible to explore the entire state-action space. Consequently, this also makes it practically impossible to gradually estimate $Q(s,a)$ until it converges to $Q^*(s,a)$.\n",
    "\n",
    "In the Deep $Q$-Learning, we solve this problem by using a neural network to estimate the action-value function $Q(s,a)\\approx Q^*(s,a)$. We call this neural network a $Q$-Network and it can be trained by adjusting its weights at each iteration to minimize the mean-squared error in the Bellman equation.\n",
    "\n",
    "Unfortunately, using neural networks in reinforcement learning to estimate action-value functions has proven to be highly unstable. Luckily, there's a couple of techniques that can be employed to avoid instabilities. These techniques consist of using a ***Target Network*** and ***Experience Replay***. We will explore these two techniques in the following sections."
   ]
  },
  {
   "cell_type": "markdown",
   "metadata": {},
   "source": [
    "<a name=\"6.1\"></a>\n",
    "### 6.1 Target Network\n",
    "\n",
    "We can train the $Q$-Network by adjusting it's weights at each iteration to minimize the mean-squared error in the Bellman equation, where the target values are given by:\n",
    "\n",
    "$$\n",
    "y = R + \\gamma \\max_{a'}Q(s',a';w)\n",
    "$$\n",
    "\n",
    "where $w$ are the weights of the $Q$-Network. This means that we are adjusting the weights $w$ at each iteration to minimize the following error:\n",
    "\n",
    "$$\n",
    "\\overbrace{\\underbrace{R + \\gamma \\max_{a'}Q(s',a'; w)}_{\\rm {y~target}} - Q(s,a;w)}^{\\rm {Error}}\n",
    "$$\n",
    "\n",
    "Notice that this forms a problem because the $y$ target is changing on every iteration. Having a constantly moving target can lead to oscillations and instabilities. To avoid this, we can create\n",
    "a separate neural network for generating the $y$ targets. We call this separate neural network the **target $\\hat Q$-Network** and it will have the same architecture as the original $Q$-Network. By using the target $\\hat Q$-Network, the above error becomes:\n",
    "\n",
    "$$\n",
    "\\overbrace{\\underbrace{R + \\gamma \\max_{a'}\\hat{Q}(s',a'; w^-)}_{\\rm {y~target}} - Q(s,a;w)}^{\\rm {Error}}\n",
    "$$\n",
    "\n",
    "where $w^-$ and $w$ are the weights of the target $\\hat Q$-Network and $Q$-Network, respectively.\n",
    "\n",
    "In practice, we will use the following algorithm: every $C$ time steps we will use the $\\hat Q$-Network to generate the $y$ targets and update the weights of the target $\\hat Q$-Network using the weights of the $Q$-Network. We will update the weights $w^-$ of the the target $\\hat Q$-Network using a **soft update**. This means that we will update the weights $w^-$ using the following rule:\n",
    " \n",
    "$$\n",
    "w^-\\leftarrow \\tau w + (1 - \\tau) w^-\n",
    "$$\n",
    "\n",
    "where $\\tau\\ll 1$. By using the soft update, we are ensuring that the target values, $y$, change slowly, which greatly improves the stability of our learning algorithm."
   ]
  },
  {
   "cell_type": "markdown",
   "metadata": {},
   "source": [
    "<a name=\"ex01\"></a>\n",
    "### Exercise 1\n",
    "\n",
    "In this exercise you will create the $Q$ and target $\\hat Q$ networks and set the optimizer. Remember that the Deep $Q$-Network (DQN) is a neural network that approximates the action-value function $Q(s,a)\\approx Q^*(s,a)$. It does this by learning how to map states to $Q$ values.\n",
    "\n",
    "To solve the Lunar Lander environment, we are going to employ a DQN with the following architecture:\n",
    "\n",
    "* An `Input` layer that takes `state_size` as input.\n",
    "\n",
    "* A `Dense` layer with `64` units and a `relu` activation function.\n",
    "\n",
    "* A `Dense` layer with `64` units and a `relu` activation function.\n",
    "\n",
    "* A `Dense` layer with `num_actions` units and a `linear` activation function. This will be the output layer of our network.\n",
    "\n",
    "\n",
    "In the cell below you should create the $Q$-Network and the target $\\hat Q$-Network using the model architecture described above. Remember that both the $Q$-Network and the target $\\hat Q$-Network have the same architecture.\n",
    "\n",
    "Lastly, you should set `Adam` as the optimizer with a learning rate equal to `ALPHA`. Recall that `ALPHA` was defined in the [Hyperparameters](#2) section. We should note that for this exercise you should use the already imported packages:\n",
    "```python\n",
    "from tensorflow.keras.layers import Dense, Input\n",
    "from tensorflow.keras.optimizers import Adam\n",
    "```"
   ]
  },
  {
   "cell_type": "code",
   "execution_count": 17,
   "metadata": {
    "deletable": false
   },
   "outputs": [],
   "source": [
    "# UNQ_C1\n",
    "# GRADED CELL\n",
    "\n",
    "# Create the Q-Network\n",
    "q_network = Sequential([\n",
    "    ### START CODE HERE ### \n",
    "    tf.keras.Input(shape=state_size),\n",
    "    Dense(units=64, activation='relu'),\n",
    "    Dense(units=64, activation='relu'),\n",
    "    Dense(units=num_actions, activation='linear'),\n",
    "    \n",
    "    \n",
    "    ### END CODE HERE ### \n",
    "    ])\n",
    "\n",
    "# Create the target Q^-Network\n",
    "target_q_network = Sequential([\n",
    "    ### START CODE HERE ### \n",
    "    tf.keras.Input(shape=state_size),\n",
    "    Dense(units=64, activation='relu'),\n",
    "    Dense(units=64, activation='relu'),\n",
    "    Dense(units=num_actions, activation='linear'),\n",
    "    \n",
    "    ### END CODE HERE ###\n",
    "    ])\n",
    "\n",
    "### START CODE HERE ### \n",
    "optimizer = Adam(learning_rate=ALPHA)\n",
    "### END CODE HERE ###"
   ]
  },
  {
   "cell_type": "code",
   "execution_count": 18,
   "metadata": {
    "deletable": false,
    "editable": false
   },
   "outputs": [
    {
     "name": "stdout",
     "output_type": "stream",
     "text": [
      "\u001b[92mAll tests passed!\n",
      "\u001b[92mAll tests passed!\n",
      "\u001b[92mAll tests passed!\n"
     ]
    }
   ],
   "source": [
    "# UNIT TEST\n",
    "from public_tests import *\n",
    "\n",
    "test_network(q_network)\n",
    "test_network(target_q_network)\n",
    "test_optimizer(optimizer, ALPHA) "
   ]
  },
  {
   "cell_type": "markdown",
   "metadata": {},
   "source": [
    "<details>\n",
    "  <summary><font size=\"3\" color=\"darkgreen\"><b>Click for hints</b></font></summary>\n",
    "    \n",
    "```python\n",
    "# Create the Q-Network\n",
    "q_network = Sequential([\n",
    "    Input(shape=state_size),                      \n",
    "    Dense(units=64, activation='relu'),            \n",
    "    Dense(units=64, activation='relu'),            \n",
    "    Dense(units=num_actions, activation='linear'),\n",
    "    ])\n",
    "\n",
    "# Create the target Q^-Network\n",
    "target_q_network = Sequential([\n",
    "    Input(shape=state_size),                       \n",
    "    Dense(units=64, activation='relu'),            \n",
    "    Dense(units=64, activation='relu'),            \n",
    "    Dense(units=num_actions, activation='linear'), \n",
    "    ])\n",
    "\n",
    "optimizer = Adam(learning_rate=ALPHA)                                  \n",
    "``` "
   ]
  },
  {
   "cell_type": "markdown",
   "metadata": {},
   "source": [
    "<a name=\"6.2\"></a>\n",
    "### 6.2 Experience Replay\n",
    "\n",
    "When an agent interacts with the environment, the states, actions, and rewards the agent experiences are sequential by nature. If the agent tries to learn from these consecutive experiences it can run into problems due to the strong correlations between them. To avoid this, we employ a technique known as **Experience Replay** to generate uncorrelated experiences for training our agent. Experience replay consists of storing the agent's experiences (i.e the states, actions, and rewards the agent receives) in a memory buffer and then sampling a random mini-batch of experiences from the buffer to do the learning. The experience tuples $(S_t, A_t, R_t, S_{t+1})$ will be added to the memory buffer at each time step as the agent interacts with the environment.\n",
    "\n",
    "For convenience, we will store the experiences as named tuples."
   ]
  },
  {
   "cell_type": "code",
   "execution_count": 19,
   "metadata": {
    "deletable": false,
    "editable": false
   },
   "outputs": [],
   "source": [
    "# Store experiences as named tuples\n",
    "experience = namedtuple(\"Experience\", field_names=[\"state\", \"action\", \"reward\", \"next_state\", \"done\"])"
   ]
  },
  {
   "cell_type": "markdown",
   "metadata": {},
   "source": [
    "By using experience replay we avoid problematic correlations, oscillations and instabilities. In addition, experience replay also allows the agent to potentially use the same experience in multiple weight updates, which increases data efficiency."
   ]
  },
  {
   "cell_type": "markdown",
   "metadata": {},
   "source": [
    "<a name=\"7\"></a>\n",
    "## 7 - Deep Q-Learning Algorithm with Experience Replay\n",
    "\n",
    "Now that we know all the techniques that we are going to use, we can put them together to arrive at the Deep Q-Learning Algorithm With Experience Replay.\n",
    "<br>\n",
    "<br>\n",
    "<figure>\n",
    "  <img src = \"images/deep_q_algorithm.png\" width = 90% style = \"border: thin silver solid; padding: 0px\">\n",
    "      <figcaption style = \"text-align: center; font-style: italic\">Fig 3. Deep Q-Learning with Experience Replay.</figcaption>\n",
    "</figure>"
   ]
  },
  {
   "cell_type": "markdown",
   "metadata": {},
   "source": [
    "<a name=\"ex02\"></a>\n",
    "### Exercise 2\n",
    "\n",
    "In this exercise you will implement line ***12*** of the algorithm outlined in *Fig 3* above and you will also compute the loss between the $y$ targets and the $Q(s,a)$ values. In the cell below, complete the `compute_loss` function by setting the $y$ targets equal to:\n",
    "\n",
    "$$\n",
    "\\begin{equation}\n",
    "    y_j =\n",
    "    \\begin{cases}\n",
    "      R_j & \\text{if episode terminates at step  } j+1\\\\\n",
    "      R_j + \\gamma \\max_{a'}\\hat{Q}(s_{j+1},a') & \\text{otherwise}\\\\\n",
    "    \\end{cases}       \n",
    "\\end{equation}\n",
    "$$\n",
    "\n",
    "Here are a couple of things to note:\n",
    "\n",
    "* The `compute_loss` function takes in a mini-batch of experience tuples. This mini-batch of experience tuples is unpacked to extract the `states`, `actions`, `rewards`, `next_states`, and `done_vals`. You should keep in mind that these variables are *TensorFlow Tensors* whose size will depend on the mini-batch size. For example, if the mini-batch size is `64` then both `rewards` and `done_vals` will be TensorFlow Tensors with `64` elements.\n",
    "\n",
    "\n",
    "* Using `if/else` statements to set the $y$ targets will not work when the variables are tensors with many elements. However, notice that you can use the `done_vals` to implement the above in a single line of code. To do this, recall that the `done` variable is a Boolean variable that takes the value `True` when an episode terminates at step $j+1$ and it is `False` otherwise. Taking into account that a Boolean value of `True` has the numerical value of `1` and a Boolean value of `False` has the numerical value of `0`, you can use the factor `(1 - done_vals)` to implement the above in a single line of code. Here's a hint: notice that `(1 - done_vals)` has a value of `0` when `done_vals` is `True` and a value of `1` when `done_vals` is `False`. \n",
    "\n",
    "Lastly, compute the loss by calculating the Mean-Squared Error (`MSE`) between the `y_targets` and the `q_values`. To calculate the mean-squared error you should use the already imported package `MSE`:\n",
    "```python\n",
    "from tensorflow.keras.losses import MSE\n",
    "```"
   ]
  },
  {
   "cell_type": "code",
   "execution_count": 20,
   "metadata": {
    "deletable": false
   },
   "outputs": [],
   "source": [
    "# UNQ_C2\n",
    "# GRADED FUNCTION: calculate_loss\n",
    "\n",
    "def compute_loss(experiences, gamma, q_network, target_q_network):\n",
    "    \"\"\" \n",
    "    Calculates the loss.\n",
    "    \n",
    "    Args:\n",
    "      experiences: (tuple) tuple of [\"state\", \"action\", \"reward\", \"next_state\", \"done\"] namedtuples\n",
    "      gamma: (float) The discount factor.\n",
    "      q_network: (tf.keras.Sequential) Keras model for predicting the q_values\n",
    "      target_q_network: (tf.keras.Sequential) Keras model for predicting the targets\n",
    "          \n",
    "    Returns:\n",
    "      loss: (TensorFlow Tensor(shape=(0,), dtype=int32)) the Mean-Squared Error between\n",
    "            the y targets and the Q(s,a) values.\n",
    "    \"\"\"\n",
    "\n",
    "    # Unpack the mini-batch of experience tuples\n",
    "    states, actions, rewards, next_states, done_vals = experiences\n",
    "    \n",
    "    # Compute max Q^(s,a)\n",
    "    max_qsa = tf.reduce_max(target_q_network(next_states), axis=-1)\n",
    "    \n",
    "    # Set y = R if episode terminates, otherwise set y = R + γ max Q^(s,a).\n",
    "    ### START CODE HERE ### \n",
    "    # Using (1 - done_vals) as done_vals is 1 for True and 0 for False\n",
    "    y_targets = rewards + gamma * max_qsa * (1 - tf.cast(done_vals, tf.float32))\n",
    "    ### END CODE HERE ###\n",
    "    \n",
    "    # Get the q_values and reshape to match y_targets\n",
    "    q_values = q_network(states)\n",
    "    q_values = tf.gather_nd(q_values, tf.stack([tf.range(q_values.shape[0]),\n",
    "                                                tf.cast(actions, tf.int32)], axis=1))\n",
    "        \n",
    "    # Compute the loss\n",
    "    ### START CODE HERE ### \n",
    "    loss = tf.keras.losses.MSE(y_targets, q_values) \n",
    "    ### END CODE HERE ### \n",
    "    \n",
    "    return loss"
   ]
  },
  {
   "cell_type": "code",
   "execution_count": 21,
   "metadata": {
    "deletable": false,
    "editable": false
   },
   "outputs": [
    {
     "name": "stdout",
     "output_type": "stream",
     "text": [
      "\u001b[92mAll tests passed!\n"
     ]
    }
   ],
   "source": [
    "# UNIT TEST    \n",
    "test_compute_loss(compute_loss)"
   ]
  },
  {
   "cell_type": "markdown",
   "metadata": {},
   "source": [
    "<details>\n",
    "  <summary><font size=\"3\" color=\"darkgreen\"><b>Click for hints</b></font></summary>\n",
    "    \n",
    "```python\n",
    "def compute_loss(experiences, gamma, q_network, target_q_network):\n",
    "    \"\"\" \n",
    "    Calculates the loss.\n",
    "    \n",
    "    Args:\n",
    "      experiences: (tuple) tuple of [\"state\", \"action\", \"reward\", \"next_state\", \"done\"] namedtuples\n",
    "      gamma: (float) The discount factor.\n",
    "      q_network: (tf.keras.Sequential) Keras model for predicting the q_values\n",
    "      target_q_network: (tf.keras.Sequential) Keras model for predicting the targets\n",
    "          \n",
    "    Returns:\n",
    "      loss: (TensorFlow Tensor(shape=(0,), dtype=int32)) the Mean-Squared Error between\n",
    "            the y targets and the Q(s,a) values.\n",
    "    \"\"\"\n",
    "\n",
    "    \n",
    "    # Unpack the mini-batch of experience tuples\n",
    "    states, actions, rewards, next_states, done_vals = experiences\n",
    "    \n",
    "    # Compute max Q^(s,a)\n",
    "    max_qsa = tf.reduce_max(target_q_network(next_states), axis=-1)\n",
    "    \n",
    "    # Set y = R if episode terminates, otherwise set y = R + γ max Q^(s,a).\n",
    "    y_targets = rewards + (gamma * max_qsa * (1 - done_vals))\n",
    "    \n",
    "    # Get the q_values\n",
    "    q_values = q_network(states)\n",
    "    q_values = tf.gather_nd(q_values, tf.stack([tf.range(q_values.shape[0]),\n",
    "                                                tf.cast(actions, tf.int32)], axis=1))\n",
    "    \n",
    "    # Calculate the loss\n",
    "    loss = MSE(y_targets, q_values)\n",
    "    \n",
    "    return loss\n",
    "\n",
    "``` \n",
    "    "
   ]
  },
  {
   "cell_type": "markdown",
   "metadata": {},
   "source": [
    "<a name=\"8\"></a>\n",
    "## 8 - Update the Network Weights\n",
    "\n",
    "We will use the `agent_learn` function below to implement lines ***12 -14*** of the algorithm outlined in [Fig 3](#7). The `agent_learn` function will update the weights of the $Q$ and target $\\hat Q$ networks using a custom training loop. Because we are using a custom training loop we need to retrieve the gradients via a `tf.GradientTape` instance, and then call `optimizer.apply_gradients()` to update the weights of our $Q$-Network. Note that we are also using the `@tf.function` decorator to increase performance. Without this decorator our training will take twice as long. If you would like to know more about how to increase performance with `@tf.function` take a look at the [TensorFlow documentation](https://www.tensorflow.org/guide/function).\n",
    "\n",
    "The last line of this function updates the weights of the target $\\hat Q$-Network using a [soft update](#6.1). If you want to know how this is implemented in code we encourage you to take a look at the `utils.update_target_network` function in the `utils` module."
   ]
  },
  {
   "cell_type": "code",
   "execution_count": 22,
   "metadata": {
    "deletable": false,
    "editable": false
   },
   "outputs": [],
   "source": [
    "@tf.function\n",
    "def agent_learn(experiences, gamma):\n",
    "    \"\"\"\n",
    "    Updates the weights of the Q networks.\n",
    "    \n",
    "    Args:\n",
    "      experiences: (tuple) tuple of [\"state\", \"action\", \"reward\", \"next_state\", \"done\"] namedtuples\n",
    "      gamma: (float) The discount factor.\n",
    "    \n",
    "    \"\"\"\n",
    "    \n",
    "    # Calculate the loss\n",
    "    with tf.GradientTape() as tape:\n",
    "        loss = compute_loss(experiences, gamma, q_network, target_q_network)\n",
    "\n",
    "    # Get the gradients of the loss with respect to the weights.\n",
    "    gradients = tape.gradient(loss, q_network.trainable_variables)\n",
    "    \n",
    "    # Update the weights of the q_network.\n",
    "    optimizer.apply_gradients(zip(gradients, q_network.trainable_variables))\n",
    "\n",
    "    # update the weights of target q_network\n",
    "    utils.update_target_network(q_network, target_q_network)"
   ]
  },
  {
   "cell_type": "markdown",
   "metadata": {},
   "source": [
    "<a name=\"9\"></a>\n",
    "## 9 - Train the Agent\n",
    "\n",
    "We are now ready to train our agent to solve the Lunar Lander environment. In the cell below we will implement the algorithm in [Fig 3](#7) line by line (please note that we have included the same algorithm below for easy reference. This will prevent you from scrolling up and down the notebook):\n",
    "\n",
    "* **Line 1**: We initialize the `memory_buffer` with a capacity of $N =$ `MEMORY_SIZE`. Notice that we are using a `deque` as the data structure for our `memory_buffer`.\n",
    "\n",
    "\n",
    "* **Line 2**: We skip this line since we already initialized the `q_network` in [Exercise 1](#ex01).\n",
    "\n",
    "\n",
    "* **Line 3**: We initialize the `target_q_network` by setting its weights to be equal to those of the `q_network`.\n",
    "\n",
    "\n",
    "* **Line 4**: We start the outer loop. Notice that we have set $M =$ `num_episodes = 2000`. This number is reasonable because the agent should be able to solve the Lunar Lander environment in less than `2000` episodes using this notebook's default parameters.\n",
    "\n",
    "\n",
    "* **Line 5**: We use the `.reset()` method to reset the environment to the initial state and get the initial state.\n",
    "\n",
    "\n",
    "* **Line 6**: We start the inner loop. Notice that we have set $T =$ `max_num_timesteps = 1000`. This means that the episode will automatically terminate if the episode hasn't terminated after `1000` time steps.\n",
    "\n",
    "\n",
    "* **Line 7**: The agent observes the current `state` and chooses an `action` using an $\\epsilon$-greedy policy. Our agent starts out using a value of $\\epsilon =$ `epsilon = 1` which yields an $\\epsilon$-greedy policy that is equivalent to the equiprobable random policy. This means that at the beginning of our training, the agent is just going to take random actions regardless of the observed `state`. As training progresses we will decrease the value of $\\epsilon$ slowly towards a minimum value using a given $\\epsilon$-decay rate. We want this minimum value to be close to zero because a value of $\\epsilon = 0$ will yield an $\\epsilon$-greedy policy that is equivalent to the greedy policy. This means that towards the end of training, the agent will lean towards selecting the `action` that it believes (based on its past experiences) will maximize $Q(s,a)$. We will set the minimum $\\epsilon$ value to be `0.01` and not exactly 0 because we always want to keep a little bit of exploration during training. If you want to know how this is implemented in code we encourage you to take a look at the `utils.get_action` function in the `utils` module.\n",
    "\n",
    "\n",
    "* **Line 8**: We use the `.step()` method to take the given `action` in the environment and get the `reward` and the `next_state`. \n",
    "\n",
    "\n",
    "* **Line 9**: We store the `experience(state, action, reward, next_state, done)` tuple in our `memory_buffer`. Notice that we also store the `done` variable so that we can keep track of when an episode terminates. This allowed us to set the $y$ targets in [Exercise 2](#ex02).\n",
    "\n",
    "\n",
    "* **Line 10**: We check if the conditions are met to perform a learning update. We do this by using our custom `utils.check_update_conditions` function. This function checks if $C =$ `NUM_STEPS_FOR_UPDATE = 4` time steps have occured and if our `memory_buffer` has enough experience tuples to fill a mini-batch. For example, if the mini-batch size is `64`, then our `memory_buffer` should have more than `64` experience tuples in order to pass the latter condition. If the conditions are met, then the `utils.check_update_conditions` function will return a value of `True`, otherwise it will return a value of `False`.\n",
    "\n",
    "\n",
    "* **Lines 11 - 14**: If the `update` variable is `True` then we perform a learning update. The learning update consists of sampling a random mini-batch of experience tuples from our `memory_buffer`, setting the $y$ targets, performing gradient descent, and updating the weights of the networks. We will use the `agent_learn` function we defined in [Section 8](#8) to perform the latter 3.\n",
    "\n",
    "\n",
    "* **Line 15**: At the end of each iteration of the inner loop we set `next_state` as our new `state` so that the loop can start again from this new state. In addition, we check if the episode has reached a terminal state (i.e we check if `done = True`). If a terminal state has been reached, then we break out of the inner loop.\n",
    "\n",
    "\n",
    "* **Line 16**: At the end of each iteration of the outer loop we update the value of $\\epsilon$, and check if the environment has been solved. We consider that the environment has been solved if the agent receives an average of `200` points in the last `100` episodes. If the environment has not been solved we continue the outer loop and start a new episode.\n",
    "\n",
    "Finally, we wanted to note that we have included some extra variables to keep track of the total number of points the agent received in each episode. This will help us determine if the agent has solved the environment and it will also allow us to see how our agent performed during training. We also use the `time` module to measure how long the training takes. \n",
    "\n",
    "<br>\n",
    "<br>\n",
    "<figure>\n",
    "  <img src = \"images/deep_q_algorithm.png\" width = 90% style = \"border: thin silver solid; padding: 0px\">\n",
    "      <figcaption style = \"text-align: center; font-style: italic\">Fig 4. Deep Q-Learning with Experience Replay.</figcaption>\n",
    "</figure>\n",
    "<br>\n",
    "\n",
    "**Note:** With this notebook's default parameters, the following cell takes between 10 to 15 minutes to run. "
   ]
  },
  {
   "cell_type": "code",
   "execution_count": 23,
   "metadata": {
    "deletable": false,
    "editable": false
   },
   "outputs": [
    {
     "name": "stdout",
     "output_type": "stream",
     "text": [
      "Episode 100 | Total point average of the last 100 episodes: -133.94\n",
      "Episode 200 | Total point average of the last 100 episodes: -83.128\n",
      "Episode 300 | Total point average of the last 100 episodes: -89.82\n",
      "Episode 400 | Total point average of the last 100 episodes: -26.21\n",
      "Episode 500 | Total point average of the last 100 episodes: 38.915\n",
      "Episode 600 | Total point average of the last 100 episodes: 189.05\n",
      "Episode 614 | Total point average of the last 100 episodes: 200.48\n",
      "\n",
      "Environment solved in 614 episodes!\n",
      "\n",
      "Total Runtime: 902.52 s (15.04 min)\n"
     ]
    }
   ],
   "source": [
    "start = time.time()\n",
    "\n",
    "num_episodes = 2000\n",
    "max_num_timesteps = 1000\n",
    "\n",
    "total_point_history = []\n",
    "\n",
    "num_p_av = 100    # number of total points to use for averaging\n",
    "epsilon = 1.0     # initial ε value for ε-greedy policy\n",
    "\n",
    "# Create a memory buffer D with capacity N\n",
    "memory_buffer = deque(maxlen=MEMORY_SIZE)\n",
    "\n",
    "# Set the target network weights equal to the Q-Network weights\n",
    "target_q_network.set_weights(q_network.get_weights())\n",
    "\n",
    "for i in range(num_episodes):\n",
    "    \n",
    "    # Reset the environment to the initial state and get the initial state\n",
    "    state = env.reset()\n",
    "    total_points = 0\n",
    "    \n",
    "    for t in range(max_num_timesteps):\n",
    "        \n",
    "        # From the current state S choose an action A using an ε-greedy policy\n",
    "        state_qn = np.expand_dims(state, axis=0)  # state needs to be the right shape for the q_network\n",
    "        q_values = q_network(state_qn)\n",
    "        action = utils.get_action(q_values, epsilon)\n",
    "        \n",
    "        # Take action A and receive reward R and the next state S'\n",
    "        next_state, reward, done, _ = env.step(action)\n",
    "        \n",
    "        # Store experience tuple (S,A,R,S') in the memory buffer.\n",
    "        # We store the done variable as well for convenience.\n",
    "        memory_buffer.append(experience(state, action, reward, next_state, done))\n",
    "        \n",
    "        # Only update the network every NUM_STEPS_FOR_UPDATE time steps.\n",
    "        update = utils.check_update_conditions(t, NUM_STEPS_FOR_UPDATE, memory_buffer)\n",
    "        \n",
    "        if update:\n",
    "            # Sample random mini-batch of experience tuples (S,A,R,S') from D\n",
    "            experiences = utils.get_experiences(memory_buffer)\n",
    "            \n",
    "            # Set the y targets, perform a gradient descent step,\n",
    "            # and update the network weights.\n",
    "            agent_learn(experiences, GAMMA)\n",
    "        \n",
    "        state = next_state.copy()\n",
    "        total_points += reward\n",
    "        \n",
    "        if done:\n",
    "            break\n",
    "            \n",
    "    total_point_history.append(total_points)\n",
    "    av_latest_points = np.mean(total_point_history[-num_p_av:])\n",
    "    \n",
    "    # Update the ε value\n",
    "    epsilon = utils.get_new_eps(epsilon)\n",
    "\n",
    "    print(f\"\\rEpisode {i+1} | Total point average of the last {num_p_av} episodes: {av_latest_points:.2f}\", end=\"\")\n",
    "\n",
    "    if (i+1) % num_p_av == 0:\n",
    "        print(f\"\\rEpisode {i+1} | Total point average of the last {num_p_av} episodes: {av_latest_points:.2f}\")\n",
    "\n",
    "    # We will consider that the environment is solved if we get an\n",
    "    # average of 200 points in the last 100 episodes.\n",
    "    if av_latest_points >= 200.0:\n",
    "        print(f\"\\n\\nEnvironment solved in {i+1} episodes!\")\n",
    "        q_network.save('lunar_lander_model.h5')\n",
    "        break\n",
    "        \n",
    "tot_time = time.time() - start\n",
    "\n",
    "print(f\"\\nTotal Runtime: {tot_time:.2f} s ({(tot_time/60):.2f} min)\")"
   ]
  },
  {
   "cell_type": "markdown",
   "metadata": {},
   "source": [
    "We can plot the total point history along with the moving average to see how our agent improved during training. If you want to know about the different plotting options available in the `utils.plot_history` function we encourage you to take a look at the `utils` module."
   ]
  },
  {
   "cell_type": "code",
   "execution_count": 24,
   "metadata": {
    "deletable": false,
    "editable": false,
    "id": "E_EUXxurfe8m",
    "scrolled": false
   },
   "outputs": [
    {
     "data": {
      "image/png": "[encoded data removed]",
      "text/plain": [
       "<Figure size 720x504 with 1 Axes>"
      ]
     },
     "metadata": {},
     "output_type": "display_data"
    }
   ],
   "source": [
    "# Plot the total point history along with the moving average\n",
    "utils.plot_history(total_point_history)"
   ]
  },
  {
   "cell_type": "markdown",
   "metadata": {
    "id": "c_xwgaX5MnYt"
   },
   "source": [
    "<a name=\"10\"></a>\n",
    "## 10 - See the Trained Agent In Action\n",
    "\n",
    "Now that we have trained our agent, we can see it in action. We will use the `utils.create_video` function to create a video of our agent interacting with the environment using the trained $Q$-Network. The `utils.create_video` function uses the `imageio` library to create the video. This library produces some warnings that can be distracting, so, to suppress these warnings we run the code below."
   ]
  },
  {
   "cell_type": "code",
   "execution_count": 25,
   "metadata": {
    "deletable": false,
    "editable": false
   },
   "outputs": [],
   "source": [
    "# Suppress warnings from imageio\n",
    "import logging\n",
    "logging.getLogger().setLevel(logging.ERROR)"
   ]
  },
  {
   "cell_type": "markdown",
   "metadata": {},
   "source": [
    "In the cell below we create a video of our agent interacting with the Lunar Lander environment using the trained `q_network`. The video is saved to the `videos` folder with the given `filename`. We use the `utils.embed_mp4` function to embed the video in the Jupyter Notebook so that we can see it here directly without having to download it.\n",
    "\n",
    "We should note that since the lunar lander starts with a random initial force applied to its center of mass, every time you run the cell below you will see a different video. If the agent was trained properly, it should be able to land the lunar lander in the landing pad every time, regardless of the initial force applied to its center of mass."
   ]
  },
  {
   "cell_type": "code",
   "execution_count": 26,
   "metadata": {
    "deletable": false,
    "editable": false,
    "id": "3Ttb_zLeJKiG"
   },
   "outputs": [
    {
     "data": {
      "text/html": [
       "\n",
       "    <video width=\"840\" height=\"480\" controls>\n",
       "    <source src=\"data:video/mp4;base64,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\" type=\"video/mp4\">\n",
       "    Your browser does not support the video tag.\n",
       "    </video>"
      ],
      "text/plain": [
       "<IPython.core.display.HTML object>"
      ]
     },
     "execution_count": 26,
     "metadata": {},
     "output_type": "execute_result"
    }
   ],
   "source": [
    "filename = \"./videos/lunar_lander.mp4\"\n",
    "\n",
    "utils.create_video(filename, env, q_network)\n",
    "utils.embed_mp4(filename)"
   ]
  },
  {
   "cell_type": "markdown",
   "metadata": {},
   "source": [
    "<a name=\"11\"></a>\n",
    "## 11 - Congratulations!\n",
    "\n",
    "You have successfully used Deep Q-Learning with Experience Replay to train an agent to land a lunar lander safely on a landing pad on the surface of the moon. Congratulations!"
   ]
  },
  {
   "cell_type": "markdown",
   "metadata": {},
   "source": [
    "<a name=\"12\"></a>\n",
    "## 12 - References\n",
    "\n",
    "If you would like to learn more about Deep Q-Learning, we recommend you check out the following papers.\n",
    "\n",
    "\n",
    "* Mnih, V., Kavukcuoglu, K., Silver, D. et al. Human-level control through deep reinforcement learning. Nature 518, 529–533 (2015).\n",
    "\n",
    "\n",
    "* Lillicrap, T. P., Hunt, J. J., Pritzel, A., et al. Continuous Control with Deep Reinforcement Learning. ICLR (2016).\n",
    "\n",
    "\n",
    "* Mnih, V., Kavukcuoglu, K., Silver, D. et al. Playing Atari with Deep Reinforcement Learning. arXiv e-prints.  arXiv:1312.5602 (2013)."
   ]
  },
  {
   "cell_type": "markdown",
   "metadata": {},
   "source": [
    "<details>\n",
    "  <summary><font size=\"2\" color=\"darkgreen\"><b>Please click here if you want to experiment with any of the non-graded code.</b></font></summary>\n",
    "    <p><i><b>Important Note: Please only do this when you've already passed the assignment to avoid problems with the autograder.</b></i>\n",
    "    <ol>\n",
    "        <li> On the notebook’s menu, click “View” > “Cell Toolbar” > “Edit Metadata”</li>\n",
    "        <li> Hit the “Edit Metadata” button next to the code cell which you want to lock/unlock</li>\n",
    "        <li> Set the attribute value for “editable” to:\n",
    "            <ul>\n",
    "                <li> “true” if you want to unlock it </li>\n",
    "                <li> “false” if you want to lock it </li>\n",
    "            </ul>\n",
    "        </li>\n",
    "        <li> On the notebook’s menu, click “View” > “Cell Toolbar” > “None” </li>\n",
    "    </ol>\n",
    "    <p> Here's a short demo of how to do the steps above: \n",
    "        <br>\n",
    "        <img src=\"https://drive.google.com/uc?export=view&id=14Xy_Mb17CZVgzVAgq7NCjMVBvSae3xO1\" align=\"center\" alt=\"unlock_cells.gif\">\n",
    "</details>"
   ]
  }
 ],
 "metadata": {
  "accelerator": "GPU",
  "colab": {
   "collapsed_sections": [],
   "name": "TensorFlow - Lunar Lander.ipynb",
   "provenance": []
  },
  "kernelspec": {
   "display_name": "Python 3",
   "language": "python",
   "name": "python3"
  },
  "language_info": {
   "codemirror_mode": {
    "name": "ipython",
    "version": 3
   },
   "file_extension": ".py",
   "mimetype": "text/x-python",
   "name": "python",
   "nbconvert_exporter": "python",
   "pygments_lexer": "ipython3",
   "version": "3.7.6"
  }
 },
 "nbformat": 4,
 "nbformat_minor": 1
}
